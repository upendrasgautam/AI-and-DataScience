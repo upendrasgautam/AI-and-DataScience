{
 "cells": [
  {
   "cell_type": "markdown",
   "id": "5bd5f056",
   "metadata": {},
   "source": [
    "## Data Type - String"
   ]
  },
  {
   "cell_type": "code",
   "execution_count": 3,
   "id": "52c4a174",
   "metadata": {},
   "outputs": [],
   "source": [
    "# Indexing : is a position which is given to each and every element. Indexing start by 0 (by default)\n",
    "\n",
    "string =\"abcdefgh\"\n",
    "#........01234567"
   ]
  },
  {
   "cell_type": "code",
   "execution_count": 4,
   "id": "b21d387a",
   "metadata": {},
   "outputs": [
    {
     "data": {
      "text/plain": [
       "8"
      ]
     },
     "execution_count": 4,
     "metadata": {},
     "output_type": "execute_result"
    }
   ],
   "source": [
    "#Return count of characters\n",
    "\n",
    "len(string) "
   ]
  },
  {
   "cell_type": "code",
   "execution_count": 5,
   "id": "03adb2f7",
   "metadata": {},
   "outputs": [
    {
     "data": {
      "text/plain": [
       "'a'"
      ]
     },
     "execution_count": 5,
     "metadata": {},
     "output_type": "execute_result"
    }
   ],
   "source": [
    "# Return 1st character of the string\n",
    "\n",
    "string[0] "
   ]
  },
  {
   "cell_type": "code",
   "execution_count": 6,
   "id": "652ee1b0",
   "metadata": {},
   "outputs": [
    {
     "data": {
      "text/plain": [
       "'f'"
      ]
     },
     "execution_count": 6,
     "metadata": {},
     "output_type": "execute_result"
    }
   ],
   "source": [
    "# Return 6th character of the string\n",
    "\n",
    "string[5] # Index starts from 0"
   ]
  },
  {
   "cell_type": "code",
   "execution_count": 8,
   "id": "ac341e8d",
   "metadata": {},
   "outputs": [
    {
     "ename": "IndexError",
     "evalue": "string index out of range",
     "output_type": "error",
     "traceback": [
      "\u001b[1;31m---------------------------------------------------------------------------\u001b[0m",
      "\u001b[1;31mIndexError\u001b[0m                                Traceback (most recent call last)",
      "Input \u001b[1;32mIn [8]\u001b[0m, in \u001b[0;36m<cell line: 3>\u001b[1;34m()\u001b[0m\n\u001b[0;32m      1\u001b[0m \u001b[38;5;66;03m# If index is out of range then get an error : IndexError: string index out of range\u001b[39;00m\n\u001b[1;32m----> 3\u001b[0m \u001b[43mstring\u001b[49m\u001b[43m[\u001b[49m\u001b[38;5;241;43m9\u001b[39;49m\u001b[43m]\u001b[49m\n",
      "\u001b[1;31mIndexError\u001b[0m: string index out of range"
     ]
    }
   ],
   "source": [
    "# If index is out of range then get an error : IndexError: string index out of range\n",
    "\n",
    "string[9] "
   ]
  },
  {
   "cell_type": "code",
   "execution_count": 9,
   "id": "0ce4c014",
   "metadata": {},
   "outputs": [
    {
     "data": {
      "text/plain": [
       "'abcd'"
      ]
     },
     "execution_count": 9,
     "metadata": {},
     "output_type": "execute_result"
    }
   ],
   "source": [
    "# Return first 4 charcters of the string\n",
    "\n",
    "string[0:4]\n",
    "\n",
    "string[:4]"
   ]
  },
  {
   "cell_type": "code",
   "execution_count": 10,
   "id": "b9856fa7",
   "metadata": {},
   "outputs": [
    {
     "data": {
      "text/plain": [
       "'efgh'"
      ]
     },
     "execution_count": 10,
     "metadata": {},
     "output_type": "execute_result"
    }
   ],
   "source": [
    "# return 4th character to till End Index\n",
    "\n",
    "string[4:]"
   ]
  },
  {
   "cell_type": "code",
   "execution_count": 13,
   "id": "2939e5fe",
   "metadata": {},
   "outputs": [
    {
     "data": {
      "text/plain": [
       "'a'"
      ]
     },
     "execution_count": 13,
     "metadata": {},
     "output_type": "execute_result"
    }
   ],
   "source": [
    "# String can use Negative Indexing\n",
    "#  string =\"a     b   c   d   e    f   g   h\"\n",
    "#  .........-8   -7  -6  -5  -4   -3  -2  -1 \n",
    "\n",
    "string\n",
    "\n",
    "# remove last character\n",
    "string[:-1]\n",
    "\n",
    "# remove last 2 characters\n",
    "string[:-2]\n",
    "\n",
    "\n",
    "# remove last 7 characters\n",
    "string[:-7]"
   ]
  },
  {
   "cell_type": "code",
   "execution_count": 16,
   "id": "77c9bf15",
   "metadata": {},
   "outputs": [
    {
     "data": {
      "text/plain": [
       "'This is my India'"
      ]
     },
     "execution_count": 16,
     "metadata": {},
     "output_type": "execute_result"
    }
   ],
   "source": [
    "# Replace() Function : replace a specified phrase/character with another specified phrase/character.\n",
    "\n",
    "string.replace(\"f\", 'g')\n",
    "\n",
    "string1 = \"This is my Country\"\n",
    "string1.replace(\"Country\", \"India\")"
   ]
  },
  {
   "cell_type": "code",
   "execution_count": 17,
   "id": "ad04ab3e",
   "metadata": {},
   "outputs": [
    {
     "data": {
      "text/plain": [
       "'This is my Country'"
      ]
     },
     "execution_count": 17,
     "metadata": {},
     "output_type": "execute_result"
    }
   ],
   "source": [
    "string1"
   ]
  },
  {
   "cell_type": "markdown",
   "id": "34003df7",
   "metadata": {},
   "source": [
    "## Tuples\n",
    "    A sequence of immutable Python Objects\n",
    "####    Rules\n",
    "    1) Tuples can store different type of dataype, \n",
    "    2) Represent as (), \n",
    "    3) Tuples is Ordered means start the index from 0\n",
    "    4) It can hold duplicate values\n",
    "    \n",
    "####    Use Cases (store the value which could not change): \n",
    "    1. Store Week Days data\n",
    "    2. Store RGB Color data\n"
   ]
  },
  {
   "cell_type": "code",
   "execution_count": 18,
   "id": "3b03f1c9",
   "metadata": {},
   "outputs": [
    {
     "data": {
      "text/plain": [
       "()"
      ]
     },
     "execution_count": 18,
     "metadata": {},
     "output_type": "execute_result"
    }
   ],
   "source": [
    "# Declare Tuples\n",
    "\n",
    "weeks = ('Sunday', 'Monday', 'Tuesday', 'Wednessday', 'Thursday', 'Firday', 'Saturday')\n",
    "\n",
    "weeks = 'Sunday', 'Monday', 'Tuesday', 'Wednessday', 'Thursday', 'Firday', 'Saturday'\n",
    "\n",
    "# Declare Empty Tuple\n",
    "\n",
    "Tup = tuple()\n",
    "Tup = ()\n",
    "Tup"
   ]
  },
  {
   "cell_type": "code",
   "execution_count": 20,
   "id": "a70e0466",
   "metadata": {},
   "outputs": [
    {
     "data": {
      "text/plain": [
       "tuple"
      ]
     },
     "execution_count": 20,
     "metadata": {},
     "output_type": "execute_result"
    }
   ],
   "source": [
    "type(weeks)\n",
    "\n",
    "type(Tup)"
   ]
  },
  {
   "cell_type": "code",
   "execution_count": 21,
   "id": "6c932b65",
   "metadata": {},
   "outputs": [
    {
     "data": {
      "text/plain": [
       "'Monday'"
      ]
     },
     "execution_count": 21,
     "metadata": {},
     "output_type": "execute_result"
    }
   ],
   "source": [
    "# Return the 1st element value\n",
    "weeks[0]\n",
    "\n",
    "# Return the 2nd element value\n",
    "weeks[1]"
   ]
  },
  {
   "cell_type": "code",
   "execution_count": 23,
   "id": "0d266ca3",
   "metadata": {},
   "outputs": [
    {
     "ename": "TypeError",
     "evalue": "'tuple' object does not support item assignment",
     "output_type": "error",
     "traceback": [
      "\u001b[1;31m---------------------------------------------------------------------------\u001b[0m",
      "\u001b[1;31mTypeError\u001b[0m                                 Traceback (most recent call last)",
      "Input \u001b[1;32mIn [23]\u001b[0m, in \u001b[0;36m<cell line: 3>\u001b[1;34m()\u001b[0m\n\u001b[0;32m      1\u001b[0m \u001b[38;5;66;03m# You can not assign values in Tuples\u001b[39;00m\n\u001b[1;32m----> 3\u001b[0m weeks[\u001b[38;5;241m6\u001b[39m] \u001b[38;5;241m=\u001b[39m\u001b[38;5;124m\"\u001b[39m\u001b[38;5;124mNew Tuple Value\u001b[39m\u001b[38;5;124m\"\u001b[39m \n\u001b[0;32m      5\u001b[0m weeks\n",
      "\u001b[1;31mTypeError\u001b[0m: 'tuple' object does not support item assignment"
     ]
    }
   ],
   "source": [
    " # You can not assign values in Tuples\n",
    "    \n",
    "weeks[6] =\"New Tuple Value\" \n",
    "\n",
    "weeks"
   ]
  },
  {
   "cell_type": "code",
   "execution_count": 24,
   "id": "4b6c4a0f",
   "metadata": {},
   "outputs": [
    {
     "data": {
      "text/plain": [
       "tuple"
      ]
     },
     "execution_count": 24,
     "metadata": {},
     "output_type": "execute_result"
    }
   ],
   "source": [
    "# It stores different type of DataTypes\n",
    "\n",
    "tup = (\"Hello\", 4.5, 6.7, 23, 34, 23, 90, 8.9, 6.7,\"Hii\", True, False)\n",
    "type(tup)"
   ]
  },
  {
   "cell_type": "code",
   "execution_count": 28,
   "id": "140d5b25",
   "metadata": {},
   "outputs": [
    {
     "data": {
      "text/plain": [
       "('Hello', 4.5, 6.7, 23, 34, 23, 90, 8.9, 6.7, 'Hii', True)"
      ]
     },
     "execution_count": 28,
     "metadata": {},
     "output_type": "execute_result"
    }
   ],
   "source": [
    "# Tuples can use Negative Indexing\n",
    "\n",
    "# remove last item\n",
    "tup[0:-1] \n",
    "tup[:-1] "
   ]
  },
  {
   "cell_type": "code",
   "execution_count": 29,
   "id": "802ccc0b",
   "metadata": {},
   "outputs": [
    {
     "data": {
      "text/plain": [
       "('Hello', 4.5, 6.7, 23, 34, 23, 90, 8.9, 6.7, 'Hii', True, False)"
      ]
     },
     "execution_count": 29,
     "metadata": {},
     "output_type": "execute_result"
    }
   ],
   "source": [
    "tup"
   ]
  },
  {
   "cell_type": "markdown",
   "id": "13339cb6",
   "metadata": {},
   "source": [
    "## Lists\n",
    "    A Sequence of mutable objects\n",
    "#### Rules\n",
    "    1) Store different type of datatypes, \n",
    "    2) Represent as [ ], \n",
    "    3) Lists is Ordered, \n",
    "    4) It can hold duplicate values\n",
    "#### Use Case : \n",
    "    1. Attendance of employee of each days \n",
    "    2. Employee Salary"
   ]
  },
  {
   "cell_type": "code",
   "execution_count": 30,
   "id": "42532f37",
   "metadata": {},
   "outputs": [
    {
     "data": {
      "text/plain": [
       "list"
      ]
     },
     "execution_count": 30,
     "metadata": {},
     "output_type": "execute_result"
    }
   ],
   "source": [
    "# Declare List\n",
    "lst = [67, 45, 34, 90, 6, 8, 9,8, \"Hi\", \"Hello\", True, False]\n",
    "\n",
    "salaries = [10000, 20000, 3000]\n",
    "type(salaries)"
   ]
  },
  {
   "cell_type": "code",
   "execution_count": 31,
   "id": "351995be",
   "metadata": {},
   "outputs": [],
   "source": [
    "# Declare Empty List\n",
    "\n",
    "Emp_lst = []  #  [] is faster than list()\n",
    "lst = list()"
   ]
  },
  {
   "cell_type": "code",
   "execution_count": 32,
   "id": "69dc7cf2",
   "metadata": {},
   "outputs": [
    {
     "data": {
      "text/plain": [
       "[18000, 20000, 3000]"
      ]
     },
     "execution_count": 32,
     "metadata": {},
     "output_type": "execute_result"
    }
   ],
   "source": [
    "# Add 8000 Rs in first person's salary\n",
    "\n",
    "salaries[0] = salaries[0] + 8000 # or salaries[0] += 8000\n",
    "salaries"
   ]
  },
  {
   "cell_type": "code",
   "execution_count": 33,
   "id": "679c7383",
   "metadata": {},
   "outputs": [
    {
     "data": {
      "text/plain": [
       "list"
      ]
     },
     "execution_count": 33,
     "metadata": {},
     "output_type": "execute_result"
    }
   ],
   "source": [
    "# Store List & Tuple inside the List\n",
    "\n",
    "mixed = [1, 'a', 1.5, [155, 'b'], (88, 7777)]\n",
    "type(mixed)"
   ]
  },
  {
   "cell_type": "code",
   "execution_count": 34,
   "id": "c7a303b6",
   "metadata": {},
   "outputs": [
    {
     "data": {
      "text/plain": [
       "[67, 45, 34, 100, 90, 6, 8, 9, 8, 'Hi', 'Hello', True, False]"
      ]
     },
     "execution_count": 34,
     "metadata": {},
     "output_type": "execute_result"
    }
   ],
   "source": [
    "# Insert() Function - current value would be shifted in next index and will add the value in the given index\n",
    "\n",
    "lst.insert(3, 100)\n",
    "lst"
   ]
  },
  {
   "cell_type": "code",
   "execution_count": 35,
   "id": "4f2cc23b",
   "metadata": {},
   "outputs": [
    {
     "data": {
      "text/plain": [
       "['First Element', 'Second Element', 'Third Element']"
      ]
     },
     "execution_count": 35,
     "metadata": {},
     "output_type": "execute_result"
    }
   ],
   "source": [
    "emp_lst = []\n",
    "emp_lst.insert(0, \"First Element\")\n",
    "emp_lst.insert(1, \"Second Element\")\n",
    "emp_lst.insert(2, \"Third Element\")\n",
    "emp_lst"
   ]
  },
  {
   "cell_type": "code",
   "execution_count": 36,
   "id": "ec41a8bc",
   "metadata": {},
   "outputs": [
    {
     "data": {
      "text/plain": [
       "[67, 45, 34, 100, 90, 6, 8, 9, 8, 'Hi', 'Hello', True, False, 102]"
      ]
     },
     "execution_count": 36,
     "metadata": {},
     "output_type": "execute_result"
    }
   ],
   "source": [
    "# Append() Function - add the particular value at the end\n",
    "\n",
    "lst.append(102)\n",
    "lst"
   ]
  },
  {
   "cell_type": "code",
   "execution_count": 38,
   "id": "385cfe6c",
   "metadata": {},
   "outputs": [
    {
     "data": {
      "text/plain": [
       "[67, 45, 34, 100, 90, 6, 8, 9, 8, 'Hi', 'Hello', True, False]"
      ]
     },
     "execution_count": 38,
     "metadata": {},
     "output_type": "execute_result"
    }
   ],
   "source": [
    "# Remove() Function - remove a particulat element. Pass the value, not indexing\n",
    "\n",
    "lst.remove(102)\n",
    "lst"
   ]
  },
  {
   "cell_type": "code",
   "execution_count": 39,
   "id": "a37e720a",
   "metadata": {},
   "outputs": [
    {
     "data": {
      "text/plain": [
       "[45, 34, 100, 90, 6, 8, 9, 8, 'Hi', 'Hello', True]"
      ]
     },
     "execution_count": 39,
     "metadata": {},
     "output_type": "execute_result"
    }
   ],
   "source": [
    "# Pop() Function - remove the last value\n",
    "lst.pop()\n",
    "\n",
    "# Remove at the begining of the list\n",
    "lst.pop(0) \n",
    "lst"
   ]
  },
  {
   "cell_type": "code",
   "execution_count": 40,
   "id": "255a61a7",
   "metadata": {},
   "outputs": [
    {
     "data": {
      "text/plain": [
       "2"
      ]
     },
     "execution_count": 40,
     "metadata": {},
     "output_type": "execute_result"
    }
   ],
   "source": [
    "# Max() and Min() Function - work on numerical data only in the List, \n",
    "#                          - if List is stored multiple data type then these functions will not work\n",
    "\n",
    "lst = [90.56, 8, 9, 2, 5, 45, 86]\n",
    "\n",
    "max(lst) \n",
    "\n",
    "min(lst) "
   ]
  },
  {
   "cell_type": "code",
   "execution_count": 52,
   "id": "328fb40e",
   "metadata": {},
   "outputs": [
    {
     "name": "stdout",
     "output_type": "stream",
     "text": [
      "[4, 3, 2, 1]\n",
      "['For', 'Geeks', 'Geeks', 'Iron']\n",
      "Sorted List:  [1, 2, 3, 4, 5]\n",
      "Reverse Sorted List:  [5, 4, 3, 2, 1]\n",
      "Original list after sorting: [4, 2, 3, 1, 5]\n"
     ]
    }
   ],
   "source": [
    "# The simplest difference between sort() and sorted() function is: \n",
    "\n",
    "# sort() changes the list directly and doesn't return any value, \n",
    "# sorted() - doesn't change the list and returns the sorted list. \n",
    "#          - sorted() method sorts the given sequence as well as set and dictionary(which is not a sequence) \n",
    "#            either in ascending order or in descending order(does unicode comparison for string char by char) \n",
    "#          - and always returns the a sorted list. \n",
    "#          - This method doesn’t effect the original sequence.\n",
    "\n",
    "\n",
    "#### -------------Sort-----------------########\n",
    "numbers = [1, 3, 4, 2]\n",
    "numbers.sort()\n",
    "\n",
    "# sort a string in reverse order\n",
    "numbers.sort(reverse=True)\n",
    "\n",
    "print(numbers)\n",
    "\n",
    "\n",
    "\n",
    "words = [\"Geeks\", \"Iron\", \"For\", \"Geeks\", ]\n",
    "words.sort()\n",
    "\n",
    "print(words)\n",
    "\n",
    "\n",
    "#### -------------Sorted-----------------########\n",
    "\n",
    "L = [4, 2, 3, 1, 5]\n",
    "\n",
    "print(\"Sorted List: \", sorted(L))\n",
    "\n",
    "# reverse sorted list\n",
    "\n",
    "print(\"Reverse Sorted List: \", sorted(L, reverse=True))\n",
    "\n",
    "print(\"Original list after sorting:\", L)"
   ]
  },
  {
   "cell_type": "code",
   "execution_count": null,
   "id": "6e7ed1d8",
   "metadata": {},
   "outputs": [],
   "source": []
  }
 ],
 "metadata": {
  "kernelspec": {
   "display_name": "Python 3 (ipykernel)",
   "language": "python",
   "name": "python3"
  },
  "language_info": {
   "codemirror_mode": {
    "name": "ipython",
    "version": 3
   },
   "file_extension": ".py",
   "mimetype": "text/x-python",
   "name": "python",
   "nbconvert_exporter": "python",
   "pygments_lexer": "ipython3",
   "version": "3.9.12"
  }
 },
 "nbformat": 4,
 "nbformat_minor": 5
}
